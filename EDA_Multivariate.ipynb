{
 "cells": [
  {
   "cell_type": "markdown",
   "metadata": {},
   "source": [
    "# Proyecto 1\n",
    "\n",
    "**Tema:** Predicción de enfermedades Cardíacas\n",
    "\n",
    "\n",
    "\n",
    "|     Nombres      |      Apellidos       |     Login     |  Codigo   |\n",
    "| :--------------: | :------------------: | :-----------: | :-------: |\n",
    "|     Santiago     | Gonzalez Montealegre | s.gonzalez35  | 202012274 |\n",
    "| Juliana Carolina |  Cardenas Barragan   | jc.cardenasb1 | 202011683 |\n"
   ]
  },
  {
   "attachments": {},
   "cell_type": "markdown",
   "metadata": {},
   "source": [
    "## Exploratory Data Analysis\n",
    "### Two or more Variables"
   ]
  },
  {
   "cell_type": "markdown",
   "metadata": {},
   "source": [
    "## Summary\n",
    "\n",
    "Tenemos dos grupos de variables: las numéricas y las categóricas. Además, una variable _target_ a estudiar.\n",
    "\n",
    "\n",
    "### Variables Numéricas\n",
    "\n",
    "- Edad (age)\n",
    "- Presión Arterial en Reposo (trestbps)\n",
    "- Colesterol Sérico (chol)\n",
    "- Frecuencia Cardiaca Máxima (thalach)\n",
    "- Depresion del ST Inducida por Ejercicio en Relación con Reposo (oldpeak)\n",
    "\n",
    "### Variables Categóricas\n",
    "\n",
    "- Sexo (sex)\n",
    "- Tipo de Dolor en Pecho (cp)\n",
    "- Azucar en Sange en Ayunas (fbs)\n",
    "- Resultados Electrocardiográficos en Reposo (restecg)\n",
    "- Angina Inducida por Ejercicio (exang)\n",
    "- Pendiente Segmento ST de Ejercicio Máximo (slope)\n",
    "- Número de Vasos Principales coloreados por Fluoroscopia (ca)\n",
    "- Thalassemia (thal)\n",
    "\n",
    "\n",
    "### Target\n",
    "\n",
    "- Presencia de Enfermedad Cardiaca (heartdis)"
   ]
  },
  {
   "cell_type": "markdown",
   "metadata": {},
   "source": [
    "### Libraries required"
   ]
  },
  {
   "cell_type": "code",
   "execution_count": 1,
   "metadata": {},
   "outputs": [],
   "source": [
    "import pandas as pd\n",
    "import numpy as np\n",
    "import matplotlib.pyplot as plt\n",
    "import seaborn as sns"
   ]
  },
  {
   "cell_type": "code",
   "execution_count": 3,
   "metadata": {},
   "outputs": [
    {
     "data": {
      "text/html": [
       "<div>\n",
       "<style scoped>\n",
       "    .dataframe tbody tr th:only-of-type {\n",
       "        vertical-align: middle;\n",
       "    }\n",
       "\n",
       "    .dataframe tbody tr th {\n",
       "        vertical-align: top;\n",
       "    }\n",
       "\n",
       "    .dataframe thead th {\n",
       "        text-align: right;\n",
       "    }\n",
       "</style>\n",
       "<table border=\"1\" class=\"dataframe\">\n",
       "  <thead>\n",
       "    <tr style=\"text-align: right;\">\n",
       "      <th></th>\n",
       "      <th>age</th>\n",
       "      <th>sex</th>\n",
       "      <th>cp</th>\n",
       "      <th>trestbps</th>\n",
       "      <th>chol</th>\n",
       "      <th>fbs</th>\n",
       "      <th>restecg</th>\n",
       "      <th>thalach</th>\n",
       "      <th>exang</th>\n",
       "      <th>oldpeak</th>\n",
       "      <th>slope</th>\n",
       "      <th>ca</th>\n",
       "      <th>thal</th>\n",
       "      <th>heartdis</th>\n",
       "    </tr>\n",
       "  </thead>\n",
       "  <tbody>\n",
       "    <tr>\n",
       "      <th>0</th>\n",
       "      <td>63</td>\n",
       "      <td>1</td>\n",
       "      <td>1</td>\n",
       "      <td>145</td>\n",
       "      <td>233</td>\n",
       "      <td>1</td>\n",
       "      <td>2</td>\n",
       "      <td>150</td>\n",
       "      <td>0</td>\n",
       "      <td>2.3</td>\n",
       "      <td>3</td>\n",
       "      <td>0</td>\n",
       "      <td>6</td>\n",
       "      <td>0</td>\n",
       "    </tr>\n",
       "    <tr>\n",
       "      <th>1</th>\n",
       "      <td>67</td>\n",
       "      <td>1</td>\n",
       "      <td>4</td>\n",
       "      <td>160</td>\n",
       "      <td>286</td>\n",
       "      <td>0</td>\n",
       "      <td>2</td>\n",
       "      <td>108</td>\n",
       "      <td>1</td>\n",
       "      <td>1.5</td>\n",
       "      <td>2</td>\n",
       "      <td>3</td>\n",
       "      <td>3</td>\n",
       "      <td>1</td>\n",
       "    </tr>\n",
       "    <tr>\n",
       "      <th>2</th>\n",
       "      <td>67</td>\n",
       "      <td>1</td>\n",
       "      <td>4</td>\n",
       "      <td>120</td>\n",
       "      <td>229</td>\n",
       "      <td>0</td>\n",
       "      <td>2</td>\n",
       "      <td>129</td>\n",
       "      <td>1</td>\n",
       "      <td>2.6</td>\n",
       "      <td>2</td>\n",
       "      <td>2</td>\n",
       "      <td>7</td>\n",
       "      <td>1</td>\n",
       "    </tr>\n",
       "    <tr>\n",
       "      <th>3</th>\n",
       "      <td>37</td>\n",
       "      <td>1</td>\n",
       "      <td>3</td>\n",
       "      <td>130</td>\n",
       "      <td>250</td>\n",
       "      <td>0</td>\n",
       "      <td>0</td>\n",
       "      <td>187</td>\n",
       "      <td>0</td>\n",
       "      <td>3.5</td>\n",
       "      <td>3</td>\n",
       "      <td>0</td>\n",
       "      <td>3</td>\n",
       "      <td>0</td>\n",
       "    </tr>\n",
       "    <tr>\n",
       "      <th>4</th>\n",
       "      <td>41</td>\n",
       "      <td>0</td>\n",
       "      <td>2</td>\n",
       "      <td>130</td>\n",
       "      <td>204</td>\n",
       "      <td>0</td>\n",
       "      <td>2</td>\n",
       "      <td>172</td>\n",
       "      <td>0</td>\n",
       "      <td>1.4</td>\n",
       "      <td>1</td>\n",
       "      <td>0</td>\n",
       "      <td>3</td>\n",
       "      <td>0</td>\n",
       "    </tr>\n",
       "    <tr>\n",
       "      <th>...</th>\n",
       "      <td>...</td>\n",
       "      <td>...</td>\n",
       "      <td>...</td>\n",
       "      <td>...</td>\n",
       "      <td>...</td>\n",
       "      <td>...</td>\n",
       "      <td>...</td>\n",
       "      <td>...</td>\n",
       "      <td>...</td>\n",
       "      <td>...</td>\n",
       "      <td>...</td>\n",
       "      <td>...</td>\n",
       "      <td>...</td>\n",
       "      <td>...</td>\n",
       "    </tr>\n",
       "    <tr>\n",
       "      <th>298</th>\n",
       "      <td>45</td>\n",
       "      <td>1</td>\n",
       "      <td>1</td>\n",
       "      <td>110</td>\n",
       "      <td>264</td>\n",
       "      <td>0</td>\n",
       "      <td>0</td>\n",
       "      <td>132</td>\n",
       "      <td>0</td>\n",
       "      <td>1.2</td>\n",
       "      <td>2</td>\n",
       "      <td>0</td>\n",
       "      <td>7</td>\n",
       "      <td>1</td>\n",
       "    </tr>\n",
       "    <tr>\n",
       "      <th>299</th>\n",
       "      <td>68</td>\n",
       "      <td>1</td>\n",
       "      <td>4</td>\n",
       "      <td>144</td>\n",
       "      <td>193</td>\n",
       "      <td>1</td>\n",
       "      <td>0</td>\n",
       "      <td>141</td>\n",
       "      <td>0</td>\n",
       "      <td>3.4</td>\n",
       "      <td>2</td>\n",
       "      <td>2</td>\n",
       "      <td>7</td>\n",
       "      <td>1</td>\n",
       "    </tr>\n",
       "    <tr>\n",
       "      <th>300</th>\n",
       "      <td>57</td>\n",
       "      <td>1</td>\n",
       "      <td>4</td>\n",
       "      <td>130</td>\n",
       "      <td>131</td>\n",
       "      <td>0</td>\n",
       "      <td>0</td>\n",
       "      <td>115</td>\n",
       "      <td>1</td>\n",
       "      <td>1.2</td>\n",
       "      <td>2</td>\n",
       "      <td>1</td>\n",
       "      <td>7</td>\n",
       "      <td>1</td>\n",
       "    </tr>\n",
       "    <tr>\n",
       "      <th>301</th>\n",
       "      <td>57</td>\n",
       "      <td>0</td>\n",
       "      <td>2</td>\n",
       "      <td>130</td>\n",
       "      <td>236</td>\n",
       "      <td>0</td>\n",
       "      <td>2</td>\n",
       "      <td>174</td>\n",
       "      <td>0</td>\n",
       "      <td>0.0</td>\n",
       "      <td>2</td>\n",
       "      <td>1</td>\n",
       "      <td>3</td>\n",
       "      <td>1</td>\n",
       "    </tr>\n",
       "    <tr>\n",
       "      <th>302</th>\n",
       "      <td>38</td>\n",
       "      <td>1</td>\n",
       "      <td>3</td>\n",
       "      <td>138</td>\n",
       "      <td>175</td>\n",
       "      <td>0</td>\n",
       "      <td>0</td>\n",
       "      <td>173</td>\n",
       "      <td>0</td>\n",
       "      <td>0.0</td>\n",
       "      <td>1</td>\n",
       "      <td>0</td>\n",
       "      <td>3</td>\n",
       "      <td>0</td>\n",
       "    </tr>\n",
       "  </tbody>\n",
       "</table>\n",
       "<p>303 rows × 14 columns</p>\n",
       "</div>"
      ],
      "text/plain": [
       "     age  sex  cp  trestbps  chol  fbs  restecg  thalach  exang  oldpeak  \\\n",
       "0     63    1   1       145   233    1        2      150      0      2.3   \n",
       "1     67    1   4       160   286    0        2      108      1      1.5   \n",
       "2     67    1   4       120   229    0        2      129      1      2.6   \n",
       "3     37    1   3       130   250    0        0      187      0      3.5   \n",
       "4     41    0   2       130   204    0        2      172      0      1.4   \n",
       "..   ...  ...  ..       ...   ...  ...      ...      ...    ...      ...   \n",
       "298   45    1   1       110   264    0        0      132      0      1.2   \n",
       "299   68    1   4       144   193    1        0      141      0      3.4   \n",
       "300   57    1   4       130   131    0        0      115      1      1.2   \n",
       "301   57    0   2       130   236    0        2      174      0      0.0   \n",
       "302   38    1   3       138   175    0        0      173      0      0.0   \n",
       "\n",
       "     slope  ca  thal  heartdis  \n",
       "0        3   0     6         0  \n",
       "1        2   3     3         1  \n",
       "2        2   2     7         1  \n",
       "3        3   0     3         0  \n",
       "4        1   0     3         0  \n",
       "..     ...  ..   ...       ...  \n",
       "298      2   0     7         1  \n",
       "299      2   2     7         1  \n",
       "300      2   1     7         1  \n",
       "301      2   1     3         1  \n",
       "302      1   0     3         0  \n",
       "\n",
       "[303 rows x 14 columns]"
      ]
     },
     "execution_count": 3,
     "metadata": {},
     "output_type": "execute_result"
    }
   ],
   "source": [
    "columns = {\n",
    "    \"age\": {'meaning': 'age in years',\n",
    "            'num': 3},\n",
    "    \"sex\": {'meaning': 'sex (1 = male; 0 = female)',\n",
    "            'num': 4},\n",
    "    \"cp\": {'meaning': 'chest pain type 1: typical angina; 2: atypical angina; 3: non-anginal pain; 4: asymptomatic',\n",
    "           'num': 9},\n",
    "    \"trestbps\": {'meaning': 'resting blood pressure (in mm Hg on admission to the hospital)',\n",
    "                 'num': 10},\n",
    "    \"chol\": {'meaning': 'serum cholestoral in mg/dl',\n",
    "             'num': 12},\n",
    "    \"fbs\": {'meaning': '(fasting blood sugar > 120 mg/dl)  (1 = true; 0 = false)',\n",
    "            'num': 16},\n",
    "    \"restecg\": {'meaning': 'resting electrocardiographic results 0: normal; 1: having ST-T wave abnormality (T wave inversions and/or ST elevation or depression of > 0.05 mV); 2: showing probable or definite left ventricular hypertrophy by Estes criteria',\n",
    "                'num': 19},\n",
    "    \"thalach\": {'meaning': 'maximum heart rate achieved',\n",
    "                'num': 32},\n",
    "    \"exang\": {'meaning': 'exercise induced angina (1 = yes; 0 = no)',\n",
    "              'num': 38},\n",
    "    \"oldpeak\": {'meaning': 'ST depression induced by exercise relative to rest',\n",
    "                'num': 40},\n",
    "    \"slope\": {'meaning': 'the slope of the peak exercise ST segment 1: upsloping; 2: flat; 3: downsloping',\n",
    "              'num': 41},\n",
    "    \"ca\": {'meaning': 'number of major vessels (0-3) colored by flourosopy',\n",
    "           'num': 44},\n",
    "    \"thal\": {'meaning': '3 = normal; 6 = fixed defect; 7 = reversable defect',\n",
    "             'num': 51},\n",
    "    \"num\": {'meaning': 'diagnosis of heart disease (angiographic disease status) 0: < 50% diameter narrowing; 1: > 50% diameter narrowing',\n",
    "            'num': 58},\n",
    "}\n",
    "\n",
    "df = pd.read_csv(\"Data/processed.cleveland.data\", names=[i for i in columns.keys()])\n",
    "\n",
    "df.age = df.age.astype(int)\n",
    "df.sex = df.sex.astype(int)\n",
    "df.cp = df.cp.astype(int)\n",
    "df.trestbps = df.trestbps.astype(int)\n",
    "df.chol = df.chol.astype(int)\n",
    "df.fbs = df.fbs.astype(int)\n",
    "df.restecg = df.restecg.astype(int)\n",
    "df.thalach = df.thalach.astype(int)\n",
    "df.exang = df.exang.astype(int)\n",
    "df.slope = df.slope.astype(int)\n",
    "\n",
    "# ------------\n",
    "# Null values\n",
    "# ------------\n",
    "\n",
    "df['caNull'] = df['ca']\n",
    "df.loc[df['caNull'] == '?', 'ca'] = float(df.ca.mode()[0])\n",
    "df.loc[df['caNull'] != '?', 'ca'] = df['ca']\n",
    "df['ca'] = pd.to_numeric(df['ca']).astype('int32')\n",
    "\n",
    "df['thalNull'] = df['thal']\n",
    "df.loc[df['thalNull'] == '?', 'thal'] = float(df.thal.mode()[0])\n",
    "df.loc[df['thalNull'] != '?', 'thal'] = df['thal']\n",
    "df['thal'] = pd.to_numeric(df['thal']).astype('int32')\n",
    "\n",
    "# ------------\n",
    "# Target\n",
    "# ------------\n",
    "\n",
    "df.loc[df['num'] == 0, 'heartdis'] = 0\n",
    "df.loc[df['num'] != 0, 'heartdis'] = 1\n",
    "df.heartdis = df.heartdis.astype(int)\n",
    "\n",
    "# ------------\n",
    "# Drop columns\n",
    "# ------------\n",
    "df.drop(['num', 'caNull', 'thalNull'], axis=1, inplace=True)\n",
    "df"
   ]
  },
  {
   "attachments": {},
   "cell_type": "markdown",
   "metadata": {},
   "source": [
    "## Correlations Matrix"
   ]
  },
  {
   "cell_type": "code",
   "execution_count": 39,
   "metadata": {},
   "outputs": [
    {
     "data": {
      "text/html": [
       "<style type=\"text/css\">\n",
       "#T_b3835_row0_col0, #T_b3835_row1_col1, #T_b3835_row2_col2, #T_b3835_row3_col3, #T_b3835_row4_col4, #T_b3835_row5_col5, #T_b3835_row6_col6, #T_b3835_row7_col7, #T_b3835_row8_col8, #T_b3835_row9_col9, #T_b3835_row10_col10, #T_b3835_row11_col11, #T_b3835_row12_col12, #T_b3835_row13_col13 {\n",
       "  background-color: #b40426;\n",
       "  color: #f1f1f1;\n",
       "}\n",
       "#T_b3835_row0_col1, #T_b3835_row1_col5 {\n",
       "  background-color: #5470de;\n",
       "  color: #f1f1f1;\n",
       "}\n",
       "#T_b3835_row0_col2, #T_b3835_row0_col3, #T_b3835_row1_col9 {\n",
       "  background-color: #a9c6fd;\n",
       "  color: #000000;\n",
       "}\n",
       "#T_b3835_row0_col4, #T_b3835_row0_col8, #T_b3835_row6_col9 {\n",
       "  background-color: #adc9fd;\n",
       "  color: #000000;\n",
       "}\n",
       "#T_b3835_row0_col5, #T_b3835_row8_col6 {\n",
       "  background-color: #6b8df0;\n",
       "  color: #f1f1f1;\n",
       "}\n",
       "#T_b3835_row0_col6, #T_b3835_row1_col0, #T_b3835_row3_col6 {\n",
       "  background-color: #80a3fa;\n",
       "  color: #f1f1f1;\n",
       "}\n",
       "#T_b3835_row0_col7, #T_b3835_row7_col3 {\n",
       "  background-color: #3f53c6;\n",
       "  color: #f1f1f1;\n",
       "}\n",
       "#T_b3835_row0_col9 {\n",
       "  background-color: #c3d5f4;\n",
       "  color: #000000;\n",
       "}\n",
       "#T_b3835_row0_col10, #T_b3835_row3_col9, #T_b3835_row13_col1 {\n",
       "  background-color: #bfd3f6;\n",
       "  color: #000000;\n",
       "}\n",
       "#T_b3835_row0_col11 {\n",
       "  background-color: #dcdddd;\n",
       "  color: #000000;\n",
       "}\n",
       "#T_b3835_row0_col12, #T_b3835_row6_col11 {\n",
       "  background-color: #a3c2fe;\n",
       "  color: #000000;\n",
       "}\n",
       "#T_b3835_row0_col13 {\n",
       "  background-color: #cfdaea;\n",
       "  color: #000000;\n",
       "}\n",
       "#T_b3835_row1_col2, #T_b3835_row1_col7, #T_b3835_row5_col9 {\n",
       "  background-color: #90b2fe;\n",
       "  color: #000000;\n",
       "}\n",
       "#T_b3835_row1_col3, #T_b3835_row1_col4, #T_b3835_row2_col5, #T_b3835_row4_col1, #T_b3835_row7_col0, #T_b3835_row7_col2, #T_b3835_row7_col6, #T_b3835_row7_col8, #T_b3835_row7_col9, #T_b3835_row7_col10, #T_b3835_row7_col11, #T_b3835_row7_col12, #T_b3835_row7_col13, #T_b3835_row13_col7 {\n",
       "  background-color: #3b4cc0;\n",
       "  color: #f1f1f1;\n",
       "}\n",
       "#T_b3835_row1_col6, #T_b3835_row10_col5 {\n",
       "  background-color: #5875e1;\n",
       "  color: #f1f1f1;\n",
       "}\n",
       "#T_b3835_row1_col8, #T_b3835_row11_col8 {\n",
       "  background-color: #bad0f8;\n",
       "  color: #000000;\n",
       "}\n",
       "#T_b3835_row1_col10, #T_b3835_row4_col2, #T_b3835_row4_col11 {\n",
       "  background-color: #a1c0ff;\n",
       "  color: #000000;\n",
       "}\n",
       "#T_b3835_row1_col11 {\n",
       "  background-color: #97b8ff;\n",
       "  color: #000000;\n",
       "}\n",
       "#T_b3835_row1_col12 {\n",
       "  background-color: #e0dbd8;\n",
       "  color: #000000;\n",
       "}\n",
       "#T_b3835_row1_col13 {\n",
       "  background-color: #dadce0;\n",
       "  color: #000000;\n",
       "}\n",
       "#T_b3835_row2_col0, #T_b3835_row11_col10 {\n",
       "  background-color: #b2ccfb;\n",
       "  color: #000000;\n",
       "}\n",
       "#T_b3835_row2_col1, #T_b3835_row5_col4, #T_b3835_row11_col5 {\n",
       "  background-color: #7295f4;\n",
       "  color: #f1f1f1;\n",
       "}\n",
       "#T_b3835_row2_col3 {\n",
       "  background-color: #4257c9;\n",
       "  color: #f1f1f1;\n",
       "}\n",
       "#T_b3835_row2_col4, #T_b3835_row4_col12 {\n",
       "  background-color: #85a8fc;\n",
       "  color: #f1f1f1;\n",
       "}\n",
       "#T_b3835_row2_col6 {\n",
       "  background-color: #6687ed;\n",
       "  color: #f1f1f1;\n",
       "}\n",
       "#T_b3835_row2_col7 {\n",
       "  background-color: #4b64d5;\n",
       "  color: #f1f1f1;\n",
       "}\n",
       "#T_b3835_row2_col8 {\n",
       "  background-color: #ead5c9;\n",
       "  color: #000000;\n",
       "}\n",
       "#T_b3835_row2_col9 {\n",
       "  background-color: #c1d4f4;\n",
       "  color: #000000;\n",
       "}\n",
       "#T_b3835_row2_col10, #T_b3835_row6_col0 {\n",
       "  background-color: #bcd2f7;\n",
       "  color: #000000;\n",
       "}\n",
       "#T_b3835_row2_col11 {\n",
       "  background-color: #bed2f6;\n",
       "  color: #000000;\n",
       "}\n",
       "#T_b3835_row2_col12 {\n",
       "  background-color: #c6d6f1;\n",
       "  color: #000000;\n",
       "}\n",
       "#T_b3835_row2_col13, #T_b3835_row13_col8 {\n",
       "  background-color: #f0cdbb;\n",
       "  color: #000000;\n",
       "}\n",
       "#T_b3835_row3_col0, #T_b3835_row12_col10 {\n",
       "  background-color: #d9dce1;\n",
       "  color: #000000;\n",
       "}\n",
       "#T_b3835_row3_col1 {\n",
       "  background-color: #5d7ce6;\n",
       "  color: #f1f1f1;\n",
       "}\n",
       "#T_b3835_row3_col2, #T_b3835_row5_col3 {\n",
       "  background-color: #84a7fc;\n",
       "  color: #f1f1f1;\n",
       "}\n",
       "#T_b3835_row3_col4, #T_b3835_row4_col10 {\n",
       "  background-color: #96b7ff;\n",
       "  color: #000000;\n",
       "}\n",
       "#T_b3835_row3_col5 {\n",
       "  background-color: #7ea1fa;\n",
       "  color: #f1f1f1;\n",
       "}\n",
       "#T_b3835_row3_col7 {\n",
       "  background-color: #92b4fe;\n",
       "  color: #000000;\n",
       "}\n",
       "#T_b3835_row3_col8, #T_b3835_row3_col12, #T_b3835_row5_col10, #T_b3835_row5_col11 {\n",
       "  background-color: #a6c4fe;\n",
       "  color: #000000;\n",
       "}\n",
       "#T_b3835_row3_col10 {\n",
       "  background-color: #b3cdfb;\n",
       "  color: #000000;\n",
       "}\n",
       "#T_b3835_row3_col11, #T_b3835_row5_col7, #T_b3835_row8_col1 {\n",
       "  background-color: #9abbff;\n",
       "  color: #000000;\n",
       "}\n",
       "#T_b3835_row3_col13, #T_b3835_row9_col2, #T_b3835_row10_col0 {\n",
       "  background-color: #c0d4f5;\n",
       "  color: #000000;\n",
       "}\n",
       "#T_b3835_row4_col0 {\n",
       "  background-color: #cad8ef;\n",
       "  color: #000000;\n",
       "}\n",
       "#T_b3835_row4_col3, #T_b3835_row9_col6, #T_b3835_row12_col4 {\n",
       "  background-color: #7597f6;\n",
       "  color: #f1f1f1;\n",
       "}\n",
       "#T_b3835_row4_col5 {\n",
       "  background-color: #4961d2;\n",
       "  color: #f1f1f1;\n",
       "}\n",
       "#T_b3835_row4_col6, #T_b3835_row6_col7, #T_b3835_row9_col3, #T_b3835_row13_col4 {\n",
       "  background-color: #88abfd;\n",
       "  color: #000000;\n",
       "}\n",
       "#T_b3835_row4_col7, #T_b3835_row4_col9 {\n",
       "  background-color: #9bbcff;\n",
       "  color: #000000;\n",
       "}\n",
       "#T_b3835_row4_col8 {\n",
       "  background-color: #a5c3fe;\n",
       "  color: #000000;\n",
       "}\n",
       "#T_b3835_row4_col13 {\n",
       "  background-color: #b1cbfc;\n",
       "  color: #000000;\n",
       "}\n",
       "#T_b3835_row5_col0 {\n",
       "  background-color: #b6cefa;\n",
       "  color: #000000;\n",
       "}\n",
       "#T_b3835_row5_col1, #T_b3835_row9_col4 {\n",
       "  background-color: #7da0f9;\n",
       "  color: #f1f1f1;\n",
       "}\n",
       "#T_b3835_row5_col2 {\n",
       "  background-color: #82a6fb;\n",
       "  color: #f1f1f1;\n",
       "}\n",
       "#T_b3835_row5_col6 {\n",
       "  background-color: #6788ee;\n",
       "  color: #f1f1f1;\n",
       "}\n",
       "#T_b3835_row5_col8 {\n",
       "  background-color: #9dbdff;\n",
       "  color: #000000;\n",
       "}\n",
       "#T_b3835_row5_col12 {\n",
       "  background-color: #93b5fe;\n",
       "  color: #000000;\n",
       "}\n",
       "#T_b3835_row5_col13, #T_b3835_row6_col4 {\n",
       "  background-color: #a2c1ff;\n",
       "  color: #000000;\n",
       "}\n",
       "#T_b3835_row6_col1, #T_b3835_row12_col3 {\n",
       "  background-color: #7699f6;\n",
       "  color: #f1f1f1;\n",
       "}\n",
       "#T_b3835_row6_col2 {\n",
       "  background-color: #9fbfff;\n",
       "  color: #000000;\n",
       "}\n",
       "#T_b3835_row6_col3, #T_b3835_row10_col1, #T_b3835_row11_col6 {\n",
       "  background-color: #7a9df8;\n",
       "  color: #f1f1f1;\n",
       "}\n",
       "#T_b3835_row6_col5 {\n",
       "  background-color: #5a78e4;\n",
       "  color: #f1f1f1;\n",
       "}\n",
       "#T_b3835_row6_col8 {\n",
       "  background-color: #abc8fd;\n",
       "  color: #000000;\n",
       "}\n",
       "#T_b3835_row6_col10, #T_b3835_row12_col0 {\n",
       "  background-color: #b7cff9;\n",
       "  color: #000000;\n",
       "}\n",
       "#T_b3835_row6_col12, #T_b3835_row13_col6 {\n",
       "  background-color: #86a9fc;\n",
       "  color: #f1f1f1;\n",
       "}\n",
       "#T_b3835_row6_col13, #T_b3835_row12_col11 {\n",
       "  background-color: #c4d5f3;\n",
       "  color: #000000;\n",
       "}\n",
       "#T_b3835_row7_col1 {\n",
       "  background-color: #6282ea;\n",
       "  color: #f1f1f1;\n",
       "}\n",
       "#T_b3835_row7_col4, #T_b3835_row10_col4 {\n",
       "  background-color: #6e90f2;\n",
       "  color: #f1f1f1;\n",
       "}\n",
       "#T_b3835_row7_col5, #T_b3835_row8_col7 {\n",
       "  background-color: #4358cb;\n",
       "  color: #f1f1f1;\n",
       "}\n",
       "#T_b3835_row8_col0 {\n",
       "  background-color: #afcafc;\n",
       "  color: #000000;\n",
       "}\n",
       "#T_b3835_row8_col2 {\n",
       "  background-color: #e6d7cf;\n",
       "  color: #000000;\n",
       "}\n",
       "#T_b3835_row8_col3 {\n",
       "  background-color: #6180e9;\n",
       "  color: #f1f1f1;\n",
       "}\n",
       "#T_b3835_row8_col4 {\n",
       "  background-color: #81a4fb;\n",
       "  color: #f1f1f1;\n",
       "}\n",
       "#T_b3835_row8_col5, #T_b3835_row13_col5 {\n",
       "  background-color: #4e68d8;\n",
       "  color: #f1f1f1;\n",
       "}\n",
       "#T_b3835_row8_col9, #T_b3835_row8_col12 {\n",
       "  background-color: #d5dbe5;\n",
       "  color: #000000;\n",
       "}\n",
       "#T_b3835_row8_col10, #T_b3835_row10_col8 {\n",
       "  background-color: #d3dbe7;\n",
       "  color: #000000;\n",
       "}\n",
       "#T_b3835_row8_col11 {\n",
       "  background-color: #a7c5fe;\n",
       "  color: #000000;\n",
       "}\n",
       "#T_b3835_row8_col13 {\n",
       "  background-color: #f2cbb7;\n",
       "  color: #000000;\n",
       "}\n",
       "#T_b3835_row9_col0 {\n",
       "  background-color: #c9d7f0;\n",
       "  color: #000000;\n",
       "}\n",
       "#T_b3835_row9_col1 {\n",
       "  background-color: #8db0fe;\n",
       "  color: #000000;\n",
       "}\n",
       "#T_b3835_row9_col5 {\n",
       "  background-color: #485fd1;\n",
       "  color: #f1f1f1;\n",
       "}\n",
       "#T_b3835_row9_col7 {\n",
       "  background-color: #4a63d3;\n",
       "  color: #f1f1f1;\n",
       "}\n",
       "#T_b3835_row9_col8, #T_b3835_row9_col12, #T_b3835_row12_col1 {\n",
       "  background-color: #d8dce2;\n",
       "  color: #000000;\n",
       "}\n",
       "#T_b3835_row9_col10 {\n",
       "  background-color: #f7af91;\n",
       "  color: #000000;\n",
       "}\n",
       "#T_b3835_row9_col11, #T_b3835_row12_col2 {\n",
       "  background-color: #cedaeb;\n",
       "  color: #000000;\n",
       "}\n",
       "#T_b3835_row9_col13 {\n",
       "  background-color: #f1ccb8;\n",
       "  color: #000000;\n",
       "}\n",
       "#T_b3835_row10_col2 {\n",
       "  background-color: #b5cdfa;\n",
       "  color: #000000;\n",
       "}\n",
       "#T_b3835_row10_col3 {\n",
       "  background-color: #7093f3;\n",
       "  color: #f1f1f1;\n",
       "}\n",
       "#T_b3835_row10_col6, #T_b3835_row13_col3 {\n",
       "  background-color: #7b9ff9;\n",
       "  color: #f1f1f1;\n",
       "}\n",
       "#T_b3835_row10_col7 {\n",
       "  background-color: #4055c8;\n",
       "  color: #f1f1f1;\n",
       "}\n",
       "#T_b3835_row10_col9 {\n",
       "  background-color: #f7b194;\n",
       "  color: #000000;\n",
       "}\n",
       "#T_b3835_row10_col11 {\n",
       "  background-color: #9ebeff;\n",
       "  color: #000000;\n",
       "}\n",
       "#T_b3835_row10_col12 {\n",
       "  background-color: #ccd9ed;\n",
       "  color: #000000;\n",
       "}\n",
       "#T_b3835_row10_col13 {\n",
       "  background-color: #e5d8d1;\n",
       "  color: #000000;\n",
       "}\n",
       "#T_b3835_row11_col0 {\n",
       "  background-color: #e8d6cc;\n",
       "  color: #000000;\n",
       "}\n",
       "#T_b3835_row11_col1 {\n",
       "  background-color: #89acfd;\n",
       "  color: #000000;\n",
       "}\n",
       "#T_b3835_row11_col2 {\n",
       "  background-color: #c7d7f0;\n",
       "  color: #000000;\n",
       "}\n",
       "#T_b3835_row11_col3 {\n",
       "  background-color: #6a8bef;\n",
       "  color: #f1f1f1;\n",
       "}\n",
       "#T_b3835_row11_col4 {\n",
       "  background-color: #94b6ff;\n",
       "  color: #000000;\n",
       "}\n",
       "#T_b3835_row11_col7 {\n",
       "  background-color: #5b7ae5;\n",
       "  color: #f1f1f1;\n",
       "}\n",
       "#T_b3835_row11_col9 {\n",
       "  background-color: #d7dce3;\n",
       "  color: #000000;\n",
       "}\n",
       "#T_b3835_row11_col12 {\n",
       "  background-color: #c5d6f2;\n",
       "  color: #000000;\n",
       "}\n",
       "#T_b3835_row11_col13 {\n",
       "  background-color: #f4c6af;\n",
       "  color: #000000;\n",
       "}\n",
       "#T_b3835_row12_col5, #T_b3835_row12_col6, #T_b3835_row12_col7 {\n",
       "  background-color: #5977e3;\n",
       "  color: #f1f1f1;\n",
       "}\n",
       "#T_b3835_row12_col8, #T_b3835_row12_col9 {\n",
       "  background-color: #dfdbd9;\n",
       "  color: #000000;\n",
       "}\n",
       "#T_b3835_row12_col13 {\n",
       "  background-color: #f7b99e;\n",
       "  color: #000000;\n",
       "}\n",
       "#T_b3835_row13_col0 {\n",
       "  background-color: #cdd9ec;\n",
       "  color: #000000;\n",
       "}\n",
       "#T_b3835_row13_col2 {\n",
       "  background-color: #ebd3c6;\n",
       "  color: #000000;\n",
       "}\n",
       "#T_b3835_row13_col9, #T_b3835_row13_col11 {\n",
       "  background-color: #edd1c2;\n",
       "  color: #000000;\n",
       "}\n",
       "#T_b3835_row13_col10 {\n",
       "  background-color: #e2dad5;\n",
       "  color: #000000;\n",
       "}\n",
       "#T_b3835_row13_col12 {\n",
       "  background-color: #f4c5ad;\n",
       "  color: #000000;\n",
       "}\n",
       "</style>\n",
       "<table id=\"T_b3835\">\n",
       "  <thead>\n",
       "    <tr>\n",
       "      <th class=\"blank level0\" >&nbsp;</th>\n",
       "      <th id=\"T_b3835_level0_col0\" class=\"col_heading level0 col0\" >age</th>\n",
       "      <th id=\"T_b3835_level0_col1\" class=\"col_heading level0 col1\" >sex</th>\n",
       "      <th id=\"T_b3835_level0_col2\" class=\"col_heading level0 col2\" >cp</th>\n",
       "      <th id=\"T_b3835_level0_col3\" class=\"col_heading level0 col3\" >trestbps</th>\n",
       "      <th id=\"T_b3835_level0_col4\" class=\"col_heading level0 col4\" >chol</th>\n",
       "      <th id=\"T_b3835_level0_col5\" class=\"col_heading level0 col5\" >fbs</th>\n",
       "      <th id=\"T_b3835_level0_col6\" class=\"col_heading level0 col6\" >restecg</th>\n",
       "      <th id=\"T_b3835_level0_col7\" class=\"col_heading level0 col7\" >thalach</th>\n",
       "      <th id=\"T_b3835_level0_col8\" class=\"col_heading level0 col8\" >exang</th>\n",
       "      <th id=\"T_b3835_level0_col9\" class=\"col_heading level0 col9\" >oldpeak</th>\n",
       "      <th id=\"T_b3835_level0_col10\" class=\"col_heading level0 col10\" >slope</th>\n",
       "      <th id=\"T_b3835_level0_col11\" class=\"col_heading level0 col11\" >ca</th>\n",
       "      <th id=\"T_b3835_level0_col12\" class=\"col_heading level0 col12\" >thal</th>\n",
       "      <th id=\"T_b3835_level0_col13\" class=\"col_heading level0 col13\" >heartdis</th>\n",
       "    </tr>\n",
       "  </thead>\n",
       "  <tbody>\n",
       "    <tr>\n",
       "      <th id=\"T_b3835_level0_row0\" class=\"row_heading level0 row0\" >age</th>\n",
       "      <td id=\"T_b3835_row0_col0\" class=\"data row0 col0\" >1.000000</td>\n",
       "      <td id=\"T_b3835_row0_col1\" class=\"data row0 col1\" >-0.097542</td>\n",
       "      <td id=\"T_b3835_row0_col2\" class=\"data row0 col2\" >0.104139</td>\n",
       "      <td id=\"T_b3835_row0_col3\" class=\"data row0 col3\" >0.284946</td>\n",
       "      <td id=\"T_b3835_row0_col4\" class=\"data row0 col4\" >0.208950</td>\n",
       "      <td id=\"T_b3835_row0_col5\" class=\"data row0 col5\" >0.118530</td>\n",
       "      <td id=\"T_b3835_row0_col6\" class=\"data row0 col6\" >0.148868</td>\n",
       "      <td id=\"T_b3835_row0_col7\" class=\"data row0 col7\" >-0.393806</td>\n",
       "      <td id=\"T_b3835_row0_col8\" class=\"data row0 col8\" >0.091661</td>\n",
       "      <td id=\"T_b3835_row0_col9\" class=\"data row0 col9\" >0.203805</td>\n",
       "      <td id=\"T_b3835_row0_col10\" class=\"data row0 col10\" >0.161770</td>\n",
       "      <td id=\"T_b3835_row0_col11\" class=\"data row0 col11\" >0.365323</td>\n",
       "      <td id=\"T_b3835_row0_col12\" class=\"data row0 col12\" >0.128303</td>\n",
       "      <td id=\"T_b3835_row0_col13\" class=\"data row0 col13\" >0.223120</td>\n",
       "    </tr>\n",
       "    <tr>\n",
       "      <th id=\"T_b3835_level0_row1\" class=\"row_heading level0 row1\" >sex</th>\n",
       "      <td id=\"T_b3835_row1_col0\" class=\"data row1 col0\" >-0.097542</td>\n",
       "      <td id=\"T_b3835_row1_col1\" class=\"data row1 col1\" >1.000000</td>\n",
       "      <td id=\"T_b3835_row1_col2\" class=\"data row1 col2\" >0.010084</td>\n",
       "      <td id=\"T_b3835_row1_col3\" class=\"data row1 col3\" >-0.064456</td>\n",
       "      <td id=\"T_b3835_row1_col4\" class=\"data row1 col4\" >-0.199915</td>\n",
       "      <td id=\"T_b3835_row1_col5\" class=\"data row1 col5\" >0.047862</td>\n",
       "      <td id=\"T_b3835_row1_col6\" class=\"data row1 col6\" >0.021647</td>\n",
       "      <td id=\"T_b3835_row1_col7\" class=\"data row1 col7\" >-0.048663</td>\n",
       "      <td id=\"T_b3835_row1_col8\" class=\"data row1 col8\" >0.146201</td>\n",
       "      <td id=\"T_b3835_row1_col9\" class=\"data row1 col9\" >0.102173</td>\n",
       "      <td id=\"T_b3835_row1_col10\" class=\"data row1 col10\" >0.037533</td>\n",
       "      <td id=\"T_b3835_row1_col11\" class=\"data row1 col11\" >0.086048</td>\n",
       "      <td id=\"T_b3835_row1_col12\" class=\"data row1 col12\" >0.380581</td>\n",
       "      <td id=\"T_b3835_row1_col13\" class=\"data row1 col13\" >0.276816</td>\n",
       "    </tr>\n",
       "    <tr>\n",
       "      <th id=\"T_b3835_level0_row2\" class=\"row_heading level0 row2\" >cp</th>\n",
       "      <td id=\"T_b3835_row2_col0\" class=\"data row2 col0\" >0.104139</td>\n",
       "      <td id=\"T_b3835_row2_col1\" class=\"data row2 col1\" >0.010084</td>\n",
       "      <td id=\"T_b3835_row2_col2\" class=\"data row2 col2\" >1.000000</td>\n",
       "      <td id=\"T_b3835_row2_col3\" class=\"data row2 col3\" >-0.036077</td>\n",
       "      <td id=\"T_b3835_row2_col4\" class=\"data row2 col4\" >0.072319</td>\n",
       "      <td id=\"T_b3835_row2_col5\" class=\"data row2 col5\" >-0.039975</td>\n",
       "      <td id=\"T_b3835_row2_col6\" class=\"data row2 col6\" >0.067505</td>\n",
       "      <td id=\"T_b3835_row2_col7\" class=\"data row2 col7\" >-0.334422</td>\n",
       "      <td id=\"T_b3835_row2_col8\" class=\"data row2 col8\" >0.384060</td>\n",
       "      <td id=\"T_b3835_row2_col9\" class=\"data row2 col9\" >0.202277</td>\n",
       "      <td id=\"T_b3835_row2_col10\" class=\"data row2 col10\" >0.152050</td>\n",
       "      <td id=\"T_b3835_row2_col11\" class=\"data row2 col11\" >0.233117</td>\n",
       "      <td id=\"T_b3835_row2_col12\" class=\"data row2 col12\" >0.262089</td>\n",
       "      <td id=\"T_b3835_row2_col13\" class=\"data row2 col13\" >0.414446</td>\n",
       "    </tr>\n",
       "    <tr>\n",
       "      <th id=\"T_b3835_level0_row3\" class=\"row_heading level0 row3\" >trestbps</th>\n",
       "      <td id=\"T_b3835_row3_col0\" class=\"data row3 col0\" >0.284946</td>\n",
       "      <td id=\"T_b3835_row3_col1\" class=\"data row3 col1\" >-0.064456</td>\n",
       "      <td id=\"T_b3835_row3_col2\" class=\"data row3 col2\" >-0.036077</td>\n",
       "      <td id=\"T_b3835_row3_col3\" class=\"data row3 col3\" >1.000000</td>\n",
       "      <td id=\"T_b3835_row3_col4\" class=\"data row3 col4\" >0.130120</td>\n",
       "      <td id=\"T_b3835_row3_col5\" class=\"data row3 col5\" >0.175340</td>\n",
       "      <td id=\"T_b3835_row3_col6\" class=\"data row3 col6\" >0.146560</td>\n",
       "      <td id=\"T_b3835_row3_col7\" class=\"data row3 col7\" >-0.045351</td>\n",
       "      <td id=\"T_b3835_row3_col8\" class=\"data row3 col8\" >0.064762</td>\n",
       "      <td id=\"T_b3835_row3_col9\" class=\"data row3 col9\" >0.189171</td>\n",
       "      <td id=\"T_b3835_row3_col10\" class=\"data row3 col10\" >0.117382</td>\n",
       "      <td id=\"T_b3835_row3_col11\" class=\"data row3 col11\" >0.097528</td>\n",
       "      <td id=\"T_b3835_row3_col12\" class=\"data row3 col12\" >0.134424</td>\n",
       "      <td id=\"T_b3835_row3_col13\" class=\"data row3 col13\" >0.150825</td>\n",
       "    </tr>\n",
       "    <tr>\n",
       "      <th id=\"T_b3835_level0_row4\" class=\"row_heading level0 row4\" >chol</th>\n",
       "      <td id=\"T_b3835_row4_col0\" class=\"data row4 col0\" >0.208950</td>\n",
       "      <td id=\"T_b3835_row4_col1\" class=\"data row4 col1\" >-0.199915</td>\n",
       "      <td id=\"T_b3835_row4_col2\" class=\"data row4 col2\" >0.072319</td>\n",
       "      <td id=\"T_b3835_row4_col3\" class=\"data row4 col3\" >0.130120</td>\n",
       "      <td id=\"T_b3835_row4_col4\" class=\"data row4 col4\" >1.000000</td>\n",
       "      <td id=\"T_b3835_row4_col5\" class=\"data row4 col5\" >0.009841</td>\n",
       "      <td id=\"T_b3835_row4_col6\" class=\"data row4 col6\" >0.171043</td>\n",
       "      <td id=\"T_b3835_row4_col7\" class=\"data row4 col7\" >-0.003432</td>\n",
       "      <td id=\"T_b3835_row4_col8\" class=\"data row4 col8\" >0.061310</td>\n",
       "      <td id=\"T_b3835_row4_col9\" class=\"data row4 col9\" >0.046564</td>\n",
       "      <td id=\"T_b3835_row4_col10\" class=\"data row4 col10\" >-0.004062</td>\n",
       "      <td id=\"T_b3835_row4_col11\" class=\"data row4 col11\" >0.123726</td>\n",
       "      <td id=\"T_b3835_row4_col12\" class=\"data row4 col12\" >0.018351</td>\n",
       "      <td id=\"T_b3835_row4_col13\" class=\"data row4 col13\" >0.085164</td>\n",
       "    </tr>\n",
       "    <tr>\n",
       "      <th id=\"T_b3835_level0_row5\" class=\"row_heading level0 row5\" >fbs</th>\n",
       "      <td id=\"T_b3835_row5_col0\" class=\"data row5 col0\" >0.118530</td>\n",
       "      <td id=\"T_b3835_row5_col1\" class=\"data row5 col1\" >0.047862</td>\n",
       "      <td id=\"T_b3835_row5_col2\" class=\"data row5 col2\" >-0.039975</td>\n",
       "      <td id=\"T_b3835_row5_col3\" class=\"data row5 col3\" >0.175340</td>\n",
       "      <td id=\"T_b3835_row5_col4\" class=\"data row5 col4\" >0.009841</td>\n",
       "      <td id=\"T_b3835_row5_col5\" class=\"data row5 col5\" >1.000000</td>\n",
       "      <td id=\"T_b3835_row5_col6\" class=\"data row5 col6\" >0.069564</td>\n",
       "      <td id=\"T_b3835_row5_col7\" class=\"data row5 col7\" >-0.007854</td>\n",
       "      <td id=\"T_b3835_row5_col8\" class=\"data row5 col8\" >0.025665</td>\n",
       "      <td id=\"T_b3835_row5_col9\" class=\"data row5 col9\" >0.005747</td>\n",
       "      <td id=\"T_b3835_row5_col10\" class=\"data row5 col10\" >0.059894</td>\n",
       "      <td id=\"T_b3835_row5_col11\" class=\"data row5 col11\" >0.140764</td>\n",
       "      <td id=\"T_b3835_row5_col12\" class=\"data row5 col12\" >0.064625</td>\n",
       "      <td id=\"T_b3835_row5_col13\" class=\"data row5 col13\" >0.025264</td>\n",
       "    </tr>\n",
       "    <tr>\n",
       "      <th id=\"T_b3835_level0_row6\" class=\"row_heading level0 row6\" >restecg</th>\n",
       "      <td id=\"T_b3835_row6_col0\" class=\"data row6 col0\" >0.148868</td>\n",
       "      <td id=\"T_b3835_row6_col1\" class=\"data row6 col1\" >0.021647</td>\n",
       "      <td id=\"T_b3835_row6_col2\" class=\"data row6 col2\" >0.067505</td>\n",
       "      <td id=\"T_b3835_row6_col3\" class=\"data row6 col3\" >0.146560</td>\n",
       "      <td id=\"T_b3835_row6_col4\" class=\"data row6 col4\" >0.171043</td>\n",
       "      <td id=\"T_b3835_row6_col5\" class=\"data row6 col5\" >0.069564</td>\n",
       "      <td id=\"T_b3835_row6_col6\" class=\"data row6 col6\" >1.000000</td>\n",
       "      <td id=\"T_b3835_row6_col7\" class=\"data row6 col7\" >-0.083389</td>\n",
       "      <td id=\"T_b3835_row6_col8\" class=\"data row6 col8\" >0.084867</td>\n",
       "      <td id=\"T_b3835_row6_col9\" class=\"data row6 col9\" >0.114133</td>\n",
       "      <td id=\"T_b3835_row6_col10\" class=\"data row6 col10\" >0.133946</td>\n",
       "      <td id=\"T_b3835_row6_col11\" class=\"data row6 col11\" >0.131749</td>\n",
       "      <td id=\"T_b3835_row6_col12\" class=\"data row6 col12\" >0.024325</td>\n",
       "      <td id=\"T_b3835_row6_col13\" class=\"data row6 col13\" >0.169202</td>\n",
       "    </tr>\n",
       "    <tr>\n",
       "      <th id=\"T_b3835_level0_row7\" class=\"row_heading level0 row7\" >thalach</th>\n",
       "      <td id=\"T_b3835_row7_col0\" class=\"data row7 col0\" >-0.393806</td>\n",
       "      <td id=\"T_b3835_row7_col1\" class=\"data row7 col1\" >-0.048663</td>\n",
       "      <td id=\"T_b3835_row7_col2\" class=\"data row7 col2\" >-0.334422</td>\n",
       "      <td id=\"T_b3835_row7_col3\" class=\"data row7 col3\" >-0.045351</td>\n",
       "      <td id=\"T_b3835_row7_col4\" class=\"data row7 col4\" >-0.003432</td>\n",
       "      <td id=\"T_b3835_row7_col5\" class=\"data row7 col5\" >-0.007854</td>\n",
       "      <td id=\"T_b3835_row7_col6\" class=\"data row7 col6\" >-0.083389</td>\n",
       "      <td id=\"T_b3835_row7_col7\" class=\"data row7 col7\" >1.000000</td>\n",
       "      <td id=\"T_b3835_row7_col8\" class=\"data row7 col8\" >-0.378103</td>\n",
       "      <td id=\"T_b3835_row7_col9\" class=\"data row7 col9\" >-0.343085</td>\n",
       "      <td id=\"T_b3835_row7_col10\" class=\"data row7 col10\" >-0.385601</td>\n",
       "      <td id=\"T_b3835_row7_col11\" class=\"data row7 col11\" >-0.265699</td>\n",
       "      <td id=\"T_b3835_row7_col12\" class=\"data row7 col12\" >-0.274142</td>\n",
       "      <td id=\"T_b3835_row7_col13\" class=\"data row7 col13\" >-0.417167</td>\n",
       "    </tr>\n",
       "    <tr>\n",
       "      <th id=\"T_b3835_level0_row8\" class=\"row_heading level0 row8\" >exang</th>\n",
       "      <td id=\"T_b3835_row8_col0\" class=\"data row8 col0\" >0.091661</td>\n",
       "      <td id=\"T_b3835_row8_col1\" class=\"data row8 col1\" >0.146201</td>\n",
       "      <td id=\"T_b3835_row8_col2\" class=\"data row8 col2\" >0.384060</td>\n",
       "      <td id=\"T_b3835_row8_col3\" class=\"data row8 col3\" >0.064762</td>\n",
       "      <td id=\"T_b3835_row8_col4\" class=\"data row8 col4\" >0.061310</td>\n",
       "      <td id=\"T_b3835_row8_col5\" class=\"data row8 col5\" >0.025665</td>\n",
       "      <td id=\"T_b3835_row8_col6\" class=\"data row8 col6\" >0.084867</td>\n",
       "      <td id=\"T_b3835_row8_col7\" class=\"data row8 col7\" >-0.378103</td>\n",
       "      <td id=\"T_b3835_row8_col8\" class=\"data row8 col8\" >1.000000</td>\n",
       "      <td id=\"T_b3835_row8_col9\" class=\"data row8 col9\" >0.288223</td>\n",
       "      <td id=\"T_b3835_row8_col10\" class=\"data row8 col10\" >0.257748</td>\n",
       "      <td id=\"T_b3835_row8_col11\" class=\"data row8 col11\" >0.145788</td>\n",
       "      <td id=\"T_b3835_row8_col12\" class=\"data row8 col12\" >0.325240</td>\n",
       "      <td id=\"T_b3835_row8_col13\" class=\"data row8 col13\" >0.431894</td>\n",
       "    </tr>\n",
       "    <tr>\n",
       "      <th id=\"T_b3835_level0_row9\" class=\"row_heading level0 row9\" >oldpeak</th>\n",
       "      <td id=\"T_b3835_row9_col0\" class=\"data row9 col0\" >0.203805</td>\n",
       "      <td id=\"T_b3835_row9_col1\" class=\"data row9 col1\" >0.102173</td>\n",
       "      <td id=\"T_b3835_row9_col2\" class=\"data row9 col2\" >0.202277</td>\n",
       "      <td id=\"T_b3835_row9_col3\" class=\"data row9 col3\" >0.189171</td>\n",
       "      <td id=\"T_b3835_row9_col4\" class=\"data row9 col4\" >0.046564</td>\n",
       "      <td id=\"T_b3835_row9_col5\" class=\"data row9 col5\" >0.005747</td>\n",
       "      <td id=\"T_b3835_row9_col6\" class=\"data row9 col6\" >0.114133</td>\n",
       "      <td id=\"T_b3835_row9_col7\" class=\"data row9 col7\" >-0.343085</td>\n",
       "      <td id=\"T_b3835_row9_col8\" class=\"data row9 col8\" >0.288223</td>\n",
       "      <td id=\"T_b3835_row9_col9\" class=\"data row9 col9\" >1.000000</td>\n",
       "      <td id=\"T_b3835_row9_col10\" class=\"data row9 col10\" >0.577537</td>\n",
       "      <td id=\"T_b3835_row9_col11\" class=\"data row9 col11\" >0.301067</td>\n",
       "      <td id=\"T_b3835_row9_col12\" class=\"data row9 col12\" >0.342405</td>\n",
       "      <td id=\"T_b3835_row9_col13\" class=\"data row9 col13\" >0.424510</td>\n",
       "    </tr>\n",
       "    <tr>\n",
       "      <th id=\"T_b3835_level0_row10\" class=\"row_heading level0 row10\" >slope</th>\n",
       "      <td id=\"T_b3835_row10_col0\" class=\"data row10 col0\" >0.161770</td>\n",
       "      <td id=\"T_b3835_row10_col1\" class=\"data row10 col1\" >0.037533</td>\n",
       "      <td id=\"T_b3835_row10_col2\" class=\"data row10 col2\" >0.152050</td>\n",
       "      <td id=\"T_b3835_row10_col3\" class=\"data row10 col3\" >0.117382</td>\n",
       "      <td id=\"T_b3835_row10_col4\" class=\"data row10 col4\" >-0.004062</td>\n",
       "      <td id=\"T_b3835_row10_col5\" class=\"data row10 col5\" >0.059894</td>\n",
       "      <td id=\"T_b3835_row10_col6\" class=\"data row10 col6\" >0.133946</td>\n",
       "      <td id=\"T_b3835_row10_col7\" class=\"data row10 col7\" >-0.385601</td>\n",
       "      <td id=\"T_b3835_row10_col8\" class=\"data row10 col8\" >0.257748</td>\n",
       "      <td id=\"T_b3835_row10_col9\" class=\"data row10 col9\" >0.577537</td>\n",
       "      <td id=\"T_b3835_row10_col10\" class=\"data row10 col10\" >1.000000</td>\n",
       "      <td id=\"T_b3835_row10_col11\" class=\"data row10 col11\" >0.110803</td>\n",
       "      <td id=\"T_b3835_row10_col12\" class=\"data row10 col12\" >0.286792</td>\n",
       "      <td id=\"T_b3835_row10_col13\" class=\"data row10 col13\" >0.339213</td>\n",
       "    </tr>\n",
       "    <tr>\n",
       "      <th id=\"T_b3835_level0_row11\" class=\"row_heading level0 row11\" >ca</th>\n",
       "      <td id=\"T_b3835_row11_col0\" class=\"data row11 col0\" >0.365323</td>\n",
       "      <td id=\"T_b3835_row11_col1\" class=\"data row11 col1\" >0.086048</td>\n",
       "      <td id=\"T_b3835_row11_col2\" class=\"data row11 col2\" >0.233117</td>\n",
       "      <td id=\"T_b3835_row11_col3\" class=\"data row11 col3\" >0.097528</td>\n",
       "      <td id=\"T_b3835_row11_col4\" class=\"data row11 col4\" >0.123726</td>\n",
       "      <td id=\"T_b3835_row11_col5\" class=\"data row11 col5\" >0.140764</td>\n",
       "      <td id=\"T_b3835_row11_col6\" class=\"data row11 col6\" >0.131749</td>\n",
       "      <td id=\"T_b3835_row11_col7\" class=\"data row11 col7\" >-0.265699</td>\n",
       "      <td id=\"T_b3835_row11_col8\" class=\"data row11 col8\" >0.145788</td>\n",
       "      <td id=\"T_b3835_row11_col9\" class=\"data row11 col9\" >0.301067</td>\n",
       "      <td id=\"T_b3835_row11_col10\" class=\"data row11 col10\" >0.110803</td>\n",
       "      <td id=\"T_b3835_row11_col11\" class=\"data row11 col11\" >1.000000</td>\n",
       "      <td id=\"T_b3835_row11_col12\" class=\"data row11 col12\" >0.255446</td>\n",
       "      <td id=\"T_b3835_row11_col13\" class=\"data row11 col13\" >0.460033</td>\n",
       "    </tr>\n",
       "    <tr>\n",
       "      <th id=\"T_b3835_level0_row12\" class=\"row_heading level0 row12\" >thal</th>\n",
       "      <td id=\"T_b3835_row12_col0\" class=\"data row12 col0\" >0.128303</td>\n",
       "      <td id=\"T_b3835_row12_col1\" class=\"data row12 col1\" >0.380581</td>\n",
       "      <td id=\"T_b3835_row12_col2\" class=\"data row12 col2\" >0.262089</td>\n",
       "      <td id=\"T_b3835_row12_col3\" class=\"data row12 col3\" >0.134424</td>\n",
       "      <td id=\"T_b3835_row12_col4\" class=\"data row12 col4\" >0.018351</td>\n",
       "      <td id=\"T_b3835_row12_col5\" class=\"data row12 col5\" >0.064625</td>\n",
       "      <td id=\"T_b3835_row12_col6\" class=\"data row12 col6\" >0.024325</td>\n",
       "      <td id=\"T_b3835_row12_col7\" class=\"data row12 col7\" >-0.274142</td>\n",
       "      <td id=\"T_b3835_row12_col8\" class=\"data row12 col8\" >0.325240</td>\n",
       "      <td id=\"T_b3835_row12_col9\" class=\"data row12 col9\" >0.342405</td>\n",
       "      <td id=\"T_b3835_row12_col10\" class=\"data row12 col10\" >0.286792</td>\n",
       "      <td id=\"T_b3835_row12_col11\" class=\"data row12 col11\" >0.255446</td>\n",
       "      <td id=\"T_b3835_row12_col12\" class=\"data row12 col12\" >1.000000</td>\n",
       "      <td id=\"T_b3835_row12_col13\" class=\"data row12 col13\" >0.522057</td>\n",
       "    </tr>\n",
       "    <tr>\n",
       "      <th id=\"T_b3835_level0_row13\" class=\"row_heading level0 row13\" >heartdis</th>\n",
       "      <td id=\"T_b3835_row13_col0\" class=\"data row13 col0\" >0.223120</td>\n",
       "      <td id=\"T_b3835_row13_col1\" class=\"data row13 col1\" >0.276816</td>\n",
       "      <td id=\"T_b3835_row13_col2\" class=\"data row13 col2\" >0.414446</td>\n",
       "      <td id=\"T_b3835_row13_col3\" class=\"data row13 col3\" >0.150825</td>\n",
       "      <td id=\"T_b3835_row13_col4\" class=\"data row13 col4\" >0.085164</td>\n",
       "      <td id=\"T_b3835_row13_col5\" class=\"data row13 col5\" >0.025264</td>\n",
       "      <td id=\"T_b3835_row13_col6\" class=\"data row13 col6\" >0.169202</td>\n",
       "      <td id=\"T_b3835_row13_col7\" class=\"data row13 col7\" >-0.417167</td>\n",
       "      <td id=\"T_b3835_row13_col8\" class=\"data row13 col8\" >0.431894</td>\n",
       "      <td id=\"T_b3835_row13_col9\" class=\"data row13 col9\" >0.424510</td>\n",
       "      <td id=\"T_b3835_row13_col10\" class=\"data row13 col10\" >0.339213</td>\n",
       "      <td id=\"T_b3835_row13_col11\" class=\"data row13 col11\" >0.460033</td>\n",
       "      <td id=\"T_b3835_row13_col12\" class=\"data row13 col12\" >0.522057</td>\n",
       "      <td id=\"T_b3835_row13_col13\" class=\"data row13 col13\" >1.000000</td>\n",
       "    </tr>\n",
       "  </tbody>\n",
       "</table>\n"
      ],
      "text/plain": [
       "<pandas.io.formats.style.Styler at 0x2bb5b140760>"
      ]
     },
     "execution_count": 39,
     "metadata": {},
     "output_type": "execute_result"
    }
   ],
   "source": [
    "corr = df.corr()\n",
    "corr\n",
    "corr.style.background_gradient(cmap='coolwarm')"
   ]
  },
  {
   "cell_type": "code",
   "execution_count": 41,
   "metadata": {},
   "outputs": [
    {
     "data": {
      "image/png": "[encoded data removed]",
      "text/plain": [
       "<Figure size 864x720 with 2 Axes>"
      ]
     },
     "metadata": {
      "needs_background": "light"
     },
     "output_type": "display_data"
    }
   ],
   "source": [
    "plt.figure(figsize=(12, 10))\n",
    "sns.heatmap(df.corr(), annot=True, cmap=\"magma\", fmt='.2f', vmin=-1, vmax=1)\n",
    "plt.show()"
   ]
  },
  {
   "attachments": {},
   "cell_type": "markdown",
   "metadata": {},
   "source": [
    "### Age"
   ]
  },
  {
   "cell_type": "code",
   "execution_count": 45,
   "metadata": {},
   "outputs": [
    {
     "data": {
      "image/png": "[encoded data removed]",
      "text/plain": [
       "<Figure size 432x288 with 1 Axes>"
      ]
     },
     "metadata": {
      "needs_background": "light"
     },
     "output_type": "display_data"
    }
   ],
   "source": [
    "sns.boxplot(data=df, x='heartdis', y='age')\n",
    "plt.show()"
   ]
  },
  {
   "cell_type": "code",
   "execution_count": 46,
   "metadata": {},
   "outputs": [
    {
     "data": {
      "image/png": "[encoded data removed]",
      "text/plain": [
       "<Figure size 432x288 with 1 Axes>"
      ]
     },
     "metadata": {
      "needs_background": "light"
     },
     "output_type": "display_data"
    }
   ],
   "source": [
    "sns.violinplot(data=df, x='heartdis', y='age')\n",
    "plt.show()"
   ]
  },
  {
   "attachments": {},
   "cell_type": "markdown",
   "metadata": {},
   "source": [
    "### Sex"
   ]
  },
  {
   "cell_type": "code",
   "execution_count": 51,
   "metadata": {},
   "outputs": [
    {
     "data": {
      "image/png": "[encoded data removed]",
      "text/plain": [
       "<Figure size 432x288 with 1 Axes>"
      ]
     },
     "metadata": {
      "needs_background": "light"
     },
     "output_type": "display_data"
    }
   ],
   "source": [
    "sns.countplot(data=df, x='heartdis', hue='sex')\n",
    "plt.show()"
   ]
  },
  {
   "attachments": {},
   "cell_type": "markdown",
   "metadata": {},
   "source": [
    "### Chest Pain"
   ]
  },
  {
   "cell_type": "code",
   "execution_count": 53,
   "metadata": {},
   "outputs": [
    {
     "data": {
      "image/png": "[encoded data removed]",
      "text/plain": [
       "<Figure size 432x288 with 1 Axes>"
      ]
     },
     "metadata": {
      "needs_background": "light"
     },
     "output_type": "display_data"
    }
   ],
   "source": [
    "sns.countplot(data=df, x='heartdis', hue='cp')\n",
    "plt.show()"
   ]
  },
  {
   "cell_type": "code",
   "execution_count": 54,
   "metadata": {},
   "outputs": [
    {
     "data": {
      "image/png": "[encoded data removed]",
      "text/plain": [
       "<Figure size 432x288 with 1 Axes>"
      ]
     },
     "metadata": {
      "needs_background": "light"
     },
     "output_type": "display_data"
    }
   ],
   "source": [
    "sns.countplot(data=df, hue='heartdis', x='cp')\n",
    "plt.show()"
   ]
  },
  {
   "attachments": {},
   "cell_type": "markdown",
   "metadata": {},
   "source": [
    "### Resting Blood Pressure"
   ]
  },
  {
   "cell_type": "code",
   "execution_count": 55,
   "metadata": {},
   "outputs": [
    {
     "data": {
      "image/png": "[encoded data removed]",
      "text/plain": [
       "<Figure size 432x288 with 1 Axes>"
      ]
     },
     "metadata": {
      "needs_background": "light"
     },
     "output_type": "display_data"
    }
   ],
   "source": [
    "sns.boxplot(data=df, x='heartdis', y='trestbps')\n",
    "plt.show()"
   ]
  },
  {
   "attachments": {},
   "cell_type": "markdown",
   "metadata": {},
   "source": [
    "### Fasting Blood Sugar"
   ]
  },
  {
   "cell_type": "code",
   "execution_count": 56,
   "metadata": {},
   "outputs": [
    {
     "data": {
      "image/png": "[encoded data removed]",
      "text/plain": [
       "<Figure size 432x288 with 1 Axes>"
      ]
     },
     "metadata": {
      "needs_background": "light"
     },
     "output_type": "display_data"
    }
   ],
   "source": [
    "sns.countplot(data=df, x='heartdis', hue='fbs')\n",
    "plt.show()"
   ]
  },
  {
   "cell_type": "code",
   "execution_count": 57,
   "metadata": {},
   "outputs": [
    {
     "data": {
      "image/png": "[encoded data removed]",
      "text/plain": [
       "<Figure size 432x288 with 1 Axes>"
      ]
     },
     "metadata": {
      "needs_background": "light"
     },
     "output_type": "display_data"
    }
   ],
   "source": [
    "sns.countplot(data=df, hue='heartdis', x='fbs')\n",
    "plt.show()"
   ]
  },
  {
   "attachments": {},
   "cell_type": "markdown",
   "metadata": {},
   "source": [
    "### Resting Electrocardiographic Results"
   ]
  },
  {
   "cell_type": "code",
   "execution_count": 58,
   "metadata": {},
   "outputs": [
    {
     "data": {
      "image/png": "[encoded data removed]",
      "text/plain": [
       "<Figure size 432x288 with 1 Axes>"
      ]
     },
     "metadata": {
      "needs_background": "light"
     },
     "output_type": "display_data"
    }
   ],
   "source": [
    "sns.countplot(data=df, x='heartdis', hue='restecg')\n",
    "plt.show()"
   ]
  },
  {
   "cell_type": "code",
   "execution_count": 59,
   "metadata": {},
   "outputs": [
    {
     "data": {
      "image/png": "[encoded data removed]",
      "text/plain": [
       "<Figure size 432x288 with 1 Axes>"
      ]
     },
     "metadata": {
      "needs_background": "light"
     },
     "output_type": "display_data"
    }
   ],
   "source": [
    "sns.countplot(data=df, hue='heartdis', x='restecg')\n",
    "plt.show()"
   ]
  },
  {
   "attachments": {},
   "cell_type": "markdown",
   "metadata": {},
   "source": [
    "### Maximum Heart Rate"
   ]
  },
  {
   "cell_type": "code",
   "execution_count": 60,
   "metadata": {},
   "outputs": [
    {
     "data": {
      "image/png": "[encoded data removed]",
      "text/plain": [
       "<Figure size 432x288 with 1 Axes>"
      ]
     },
     "metadata": {
      "needs_background": "light"
     },
     "output_type": "display_data"
    }
   ],
   "source": [
    "sns.boxplot(data=df, x='heartdis', y='thalach')\n",
    "plt.show()"
   ]
  },
  {
   "attachments": {},
   "cell_type": "markdown",
   "metadata": {},
   "source": [
    "### Exercise Induced Angina"
   ]
  },
  {
   "cell_type": "code",
   "execution_count": 61,
   "metadata": {},
   "outputs": [
    {
     "data": {
      "image/png": "[encoded data removed]",
      "text/plain": [
       "<Figure size 432x288 with 1 Axes>"
      ]
     },
     "metadata": {
      "needs_background": "light"
     },
     "output_type": "display_data"
    }
   ],
   "source": [
    "sns.countplot(data=df, x='heartdis', hue='exang')\n",
    "plt.show()"
   ]
  },
  {
   "cell_type": "code",
   "execution_count": 62,
   "metadata": {},
   "outputs": [
    {
     "data": {
      "image/png": "[encoded data removed]",
      "text/plain": [
       "<Figure size 432x288 with 1 Axes>"
      ]
     },
     "metadata": {
      "needs_background": "light"
     },
     "output_type": "display_data"
    }
   ],
   "source": [
    "sns.countplot(data=df, hue='heartdis', x='exang')\n",
    "plt.show()"
   ]
  },
  {
   "attachments": {},
   "cell_type": "markdown",
   "metadata": {},
   "source": [
    "### ST Depression by Exercise"
   ]
  },
  {
   "cell_type": "code",
   "execution_count": 63,
   "metadata": {},
   "outputs": [
    {
     "data": {
      "image/png": "[encoded data removed]",
      "text/plain": [
       "<Figure size 432x288 with 1 Axes>"
      ]
     },
     "metadata": {
      "needs_background": "light"
     },
     "output_type": "display_data"
    }
   ],
   "source": [
    "sns.boxplot(data=df, x='heartdis', y='oldpeak')\n",
    "plt.show()"
   ]
  },
  {
   "attachments": {},
   "cell_type": "markdown",
   "metadata": {},
   "source": [
    "### Slope in Peak Exercise"
   ]
  },
  {
   "cell_type": "code",
   "execution_count": 64,
   "metadata": {},
   "outputs": [
    {
     "data": {
      "image/png": "[encoded data removed]",
      "text/plain": [
       "<Figure size 432x288 with 1 Axes>"
      ]
     },
     "metadata": {
      "needs_background": "light"
     },
     "output_type": "display_data"
    }
   ],
   "source": [
    "sns.countplot(data=df, x='heartdis', hue='slope')\n",
    "plt.show()"
   ]
  },
  {
   "cell_type": "code",
   "execution_count": 65,
   "metadata": {},
   "outputs": [
    {
     "data": {
      "image/png": "[encoded data removed]",
      "text/plain": [
       "<Figure size 432x288 with 1 Axes>"
      ]
     },
     "metadata": {
      "needs_background": "light"
     },
     "output_type": "display_data"
    }
   ],
   "source": [
    "sns.countplot(data=df, hue='heartdis', x='slope')\n",
    "plt.show()"
   ]
  }
 ],
 "metadata": {
  "kernelspec": {
   "display_name": "Python 3",
   "language": "python",
   "name": "python3"
  },
  "language_info": {
   "codemirror_mode": {
    "name": "ipython",
    "version": 3
   },
   "file_extension": ".py",
   "mimetype": "text/x-python",
   "name": "python",
   "nbconvert_exporter": "python",
   "pygments_lexer": "ipython3",
   "version": "3.10.6"
  },
  "orig_nbformat": 4
 },
 "nbformat": 4,
 "nbformat_minor": 2
}
